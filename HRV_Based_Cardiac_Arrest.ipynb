{
  "nbformat": 4,
  "nbformat_minor": 0,
  "metadata": {
    "colab": {
      "provenance": [],
      "mount_file_id": "1De-KA9wbGkm3YMb7TtfcXTW_eFhL3W_U",
      "authorship_tag": "ABX9TyMX33OJQpfNlvUB2Y3gy9IQ",
      "include_colab_link": true
    },
    "kernelspec": {
      "name": "python3",
      "display_name": "Python 3"
    }
  },
  "cells": [
    {
      "cell_type": "markdown",
      "metadata": {
        "id": "view-in-github",
        "colab_type": "text"
      },
      "source": [
        "<a href=\"https://colab.research.google.com/github/patroswastik/HRV-Based-Cardiac-Arrest/blob/main/HRV_Based_Cardiac_Arrest.ipynb\" target=\"_parent\"><img src=\"https://colab.research.google.com/assets/colab-badge.svg\" alt=\"Open In Colab\"/></a>"
      ]
    },
    {
      "cell_type": "markdown",
      "metadata": {
        "id": "Kqm6I9XSZlyy"
      },
      "source": [
        "# Importing Libraries"
      ]
    },
    {
      "cell_type": "code",
      "metadata": {
        "id": "SP5OR_yREa8S"
      },
      "source": [
        "import numpy as np\n",
        "import matplotlib.pyplot as plt\n",
        "import pandas as pd\n",
        "from sklearn.preprocessing import MinMaxScaler,StandardScaler,PolynomialFeatures\n",
        "from sklearn.model_selection import train_test_split\n",
        "from sklearn.linear_model import LogisticRegression\n",
        "from sklearn.metrics import confusion_matrix\n",
        "from sklearn.tree import DecisionTreeClassifier\n",
        "from tensorflow.keras.models import Sequential\n",
        "from tensorflow.keras.layers import Dense,Dropout,Flatten\n",
        "from tensorflow.keras.optimizers import Adam\n",
        "from keras.utils import np_utils"
      ],
      "execution_count": null,
      "outputs": []
    },
    {
      "cell_type": "code",
      "metadata": {
        "id": "7uAWSi_LINrT"
      },
      "source": [
        "df = pd.read_csv('/content/drive/My Drive/Colab Notebooks/HRV.csv')"
      ],
      "execution_count": null,
      "outputs": []
    },
    {
      "cell_type": "code",
      "metadata": {
        "id": "sx0bbx4YIU8E",
        "outputId": "786f2e1a-3494-4039-979a-38eb178250e8",
        "colab": {
          "base_uri": "https://localhost:8080/",
          "height": 438
        }
      },
      "source": [
        "df"
      ],
      "execution_count": null,
      "outputs": [
        {
          "output_type": "execute_result",
          "data": {
            "text/html": [
              "<div>\n",
              "<style scoped>\n",
              "    .dataframe tbody tr th:only-of-type {\n",
              "        vertical-align: middle;\n",
              "    }\n",
              "\n",
              "    .dataframe tbody tr th {\n",
              "        vertical-align: top;\n",
              "    }\n",
              "\n",
              "    .dataframe thead th {\n",
              "        text-align: right;\n",
              "    }\n",
              "</style>\n",
              "<table border=\"1\" class=\"dataframe\">\n",
              "  <thead>\n",
              "    <tr style=\"text-align: right;\">\n",
              "      <th></th>\n",
              "      <th>SBP</th>\n",
              "      <th>DBP</th>\n",
              "      <th>Mean HR</th>\n",
              "      <th>Mean RR</th>\n",
              "      <th>SDNN</th>\n",
              "      <th>RMSSD</th>\n",
              "      <th>TP</th>\n",
              "      <th>LF(ms2)</th>\n",
              "      <th>HF(ms2)</th>\n",
              "      <th>LF(nu)</th>\n",
              "      <th>HF(nu)</th>\n",
              "      <th>LF/HF</th>\n",
              "      <th>SD1</th>\n",
              "      <th>SD2</th>\n",
              "      <th>SD1/SD2</th>\n",
              "      <th>DFA Alpha 1</th>\n",
              "      <th>DFA Alpha 2</th>\n",
              "      <th>AppEN</th>\n",
              "      <th>SampEN</th>\n",
              "      <th>Result</th>\n",
              "    </tr>\n",
              "  </thead>\n",
              "  <tbody>\n",
              "    <tr>\n",
              "      <th>0</th>\n",
              "      <td>128.845712</td>\n",
              "      <td>88.722778</td>\n",
              "      <td>85.123808</td>\n",
              "      <td>514.273876</td>\n",
              "      <td>23.669941</td>\n",
              "      <td>16.804051</td>\n",
              "      <td>2299.696340</td>\n",
              "      <td>997.684144</td>\n",
              "      <td>349.652751</td>\n",
              "      <td>76.307577</td>\n",
              "      <td>22.850611</td>\n",
              "      <td>3.102062</td>\n",
              "      <td>12.992214</td>\n",
              "      <td>36.891878</td>\n",
              "      <td>0.122058</td>\n",
              "      <td>1.021195</td>\n",
              "      <td>0.784922</td>\n",
              "      <td>0.446175</td>\n",
              "      <td>1.069270</td>\n",
              "      <td>1</td>\n",
              "    </tr>\n",
              "    <tr>\n",
              "      <th>1</th>\n",
              "      <td>127.927398</td>\n",
              "      <td>87.670022</td>\n",
              "      <td>87.486723</td>\n",
              "      <td>551.557775</td>\n",
              "      <td>31.539156</td>\n",
              "      <td>17.130374</td>\n",
              "      <td>2235.866893</td>\n",
              "      <td>1113.110296</td>\n",
              "      <td>333.526167</td>\n",
              "      <td>76.890496</td>\n",
              "      <td>21.587769</td>\n",
              "      <td>2.997937</td>\n",
              "      <td>11.414109</td>\n",
              "      <td>40.309870</td>\n",
              "      <td>0.134849</td>\n",
              "      <td>0.912579</td>\n",
              "      <td>0.803079</td>\n",
              "      <td>0.386453</td>\n",
              "      <td>1.060359</td>\n",
              "      <td>1</td>\n",
              "    </tr>\n",
              "    <tr>\n",
              "      <th>2</th>\n",
              "      <td>126.919674</td>\n",
              "      <td>86.092977</td>\n",
              "      <td>83.179963</td>\n",
              "      <td>574.209392</td>\n",
              "      <td>32.602815</td>\n",
              "      <td>18.697896</td>\n",
              "      <td>2348.223598</td>\n",
              "      <td>1017.603806</td>\n",
              "      <td>333.286129</td>\n",
              "      <td>74.602271</td>\n",
              "      <td>22.552932</td>\n",
              "      <td>3.193798</td>\n",
              "      <td>10.708451</td>\n",
              "      <td>33.170656</td>\n",
              "      <td>0.124430</td>\n",
              "      <td>1.075274</td>\n",
              "      <td>0.799011</td>\n",
              "      <td>0.516678</td>\n",
              "      <td>1.092024</td>\n",
              "      <td>1</td>\n",
              "    </tr>\n",
              "    <tr>\n",
              "      <th>3</th>\n",
              "      <td>123.902447</td>\n",
              "      <td>87.665186</td>\n",
              "      <td>84.027245</td>\n",
              "      <td>565.037195</td>\n",
              "      <td>31.815561</td>\n",
              "      <td>9.844326</td>\n",
              "      <td>2347.263047</td>\n",
              "      <td>1021.685903</td>\n",
              "      <td>333.855820</td>\n",
              "      <td>76.001453</td>\n",
              "      <td>22.637945</td>\n",
              "      <td>3.018426</td>\n",
              "      <td>10.761679</td>\n",
              "      <td>33.153156</td>\n",
              "      <td>0.026149</td>\n",
              "      <td>1.165473</td>\n",
              "      <td>0.806971</td>\n",
              "      <td>0.349478</td>\n",
              "      <td>1.110636</td>\n",
              "      <td>1</td>\n",
              "    </tr>\n",
              "    <tr>\n",
              "      <th>4</th>\n",
              "      <td>125.780293</td>\n",
              "      <td>83.292150</td>\n",
              "      <td>88.043730</td>\n",
              "      <td>559.625145</td>\n",
              "      <td>26.870244</td>\n",
              "      <td>20.396533</td>\n",
              "      <td>2228.310189</td>\n",
              "      <td>1004.497359</td>\n",
              "      <td>338.013286</td>\n",
              "      <td>75.243650</td>\n",
              "      <td>22.171455</td>\n",
              "      <td>3.153129</td>\n",
              "      <td>10.556777</td>\n",
              "      <td>40.039957</td>\n",
              "      <td>0.154317</td>\n",
              "      <td>1.131635</td>\n",
              "      <td>0.795661</td>\n",
              "      <td>0.653466</td>\n",
              "      <td>1.063307</td>\n",
              "      <td>1</td>\n",
              "    </tr>\n",
              "    <tr>\n",
              "      <th>...</th>\n",
              "      <td>...</td>\n",
              "      <td>...</td>\n",
              "      <td>...</td>\n",
              "      <td>...</td>\n",
              "      <td>...</td>\n",
              "      <td>...</td>\n",
              "      <td>...</td>\n",
              "      <td>...</td>\n",
              "      <td>...</td>\n",
              "      <td>...</td>\n",
              "      <td>...</td>\n",
              "      <td>...</td>\n",
              "      <td>...</td>\n",
              "      <td>...</td>\n",
              "      <td>...</td>\n",
              "      <td>...</td>\n",
              "      <td>...</td>\n",
              "      <td>...</td>\n",
              "      <td>...</td>\n",
              "      <td>...</td>\n",
              "    </tr>\n",
              "    <tr>\n",
              "      <th>1557</th>\n",
              "      <td>122.909077</td>\n",
              "      <td>83.119585</td>\n",
              "      <td>88.488837</td>\n",
              "      <td>542.975353</td>\n",
              "      <td>24.557101</td>\n",
              "      <td>11.050732</td>\n",
              "      <td>2338.606983</td>\n",
              "      <td>1147.871296</td>\n",
              "      <td>399.820653</td>\n",
              "      <td>74.964370</td>\n",
              "      <td>22.209643</td>\n",
              "      <td>3.097227</td>\n",
              "      <td>10.341799</td>\n",
              "      <td>33.597737</td>\n",
              "      <td>0.067041</td>\n",
              "      <td>1.155388</td>\n",
              "      <td>0.814950</td>\n",
              "      <td>0.623226</td>\n",
              "      <td>1.167634</td>\n",
              "      <td>0</td>\n",
              "    </tr>\n",
              "    <tr>\n",
              "      <th>1558</th>\n",
              "      <td>127.292700</td>\n",
              "      <td>87.788509</td>\n",
              "      <td>85.848941</td>\n",
              "      <td>533.680398</td>\n",
              "      <td>22.955284</td>\n",
              "      <td>16.201947</td>\n",
              "      <td>2293.233442</td>\n",
              "      <td>1069.548490</td>\n",
              "      <td>436.069312</td>\n",
              "      <td>75.338102</td>\n",
              "      <td>22.708788</td>\n",
              "      <td>3.023211</td>\n",
              "      <td>12.393529</td>\n",
              "      <td>31.398053</td>\n",
              "      <td>0.088084</td>\n",
              "      <td>0.980905</td>\n",
              "      <td>0.831515</td>\n",
              "      <td>0.779002</td>\n",
              "      <td>1.149087</td>\n",
              "      <td>0</td>\n",
              "    </tr>\n",
              "    <tr>\n",
              "      <th>1559</th>\n",
              "      <td>124.685823</td>\n",
              "      <td>86.890732</td>\n",
              "      <td>82.765324</td>\n",
              "      <td>496.217698</td>\n",
              "      <td>32.544204</td>\n",
              "      <td>10.177974</td>\n",
              "      <td>2217.683052</td>\n",
              "      <td>997.120426</td>\n",
              "      <td>355.658099</td>\n",
              "      <td>76.761246</td>\n",
              "      <td>23.157399</td>\n",
              "      <td>3.193623</td>\n",
              "      <td>11.897811</td>\n",
              "      <td>34.781716</td>\n",
              "      <td>0.167223</td>\n",
              "      <td>0.937481</td>\n",
              "      <td>0.780150</td>\n",
              "      <td>0.572941</td>\n",
              "      <td>1.122830</td>\n",
              "      <td>0</td>\n",
              "    </tr>\n",
              "    <tr>\n",
              "      <th>1560</th>\n",
              "      <td>113.450000</td>\n",
              "      <td>66.160000</td>\n",
              "      <td>70.920000</td>\n",
              "      <td>569.560000</td>\n",
              "      <td>35.678000</td>\n",
              "      <td>16.786500</td>\n",
              "      <td>2246.496700</td>\n",
              "      <td>756.545600</td>\n",
              "      <td>348.702100</td>\n",
              "      <td>72.345000</td>\n",
              "      <td>21.570800</td>\n",
              "      <td>2.235400</td>\n",
              "      <td>10.389000</td>\n",
              "      <td>40.567900</td>\n",
              "      <td>0.345600</td>\n",
              "      <td>1.222450</td>\n",
              "      <td>0.734000</td>\n",
              "      <td>0.812340</td>\n",
              "      <td>1.134560</td>\n",
              "      <td>1</td>\n",
              "    </tr>\n",
              "    <tr>\n",
              "      <th>1561</th>\n",
              "      <td>125.972514</td>\n",
              "      <td>82.687400</td>\n",
              "      <td>89.117099</td>\n",
              "      <td>512.931212</td>\n",
              "      <td>40.636821</td>\n",
              "      <td>22.309578</td>\n",
              "      <td>2322.905611</td>\n",
              "      <td>1122.609805</td>\n",
              "      <td>409.024118</td>\n",
              "      <td>73.116686</td>\n",
              "      <td>20.126025</td>\n",
              "      <td>2.157081</td>\n",
              "      <td>11.282499</td>\n",
              "      <td>31.971309</td>\n",
              "      <td>0.179373</td>\n",
              "      <td>1.282490</td>\n",
              "      <td>0.801329</td>\n",
              "      <td>0.600624</td>\n",
              "      <td>1.387486</td>\n",
              "      <td>0</td>\n",
              "    </tr>\n",
              "  </tbody>\n",
              "</table>\n",
              "<p>1562 rows × 20 columns</p>\n",
              "</div>"
            ],
            "text/plain": [
              "             SBP        DBP    Mean HR  ...     AppEN    SampEN  Result\n",
              "0     128.845712  88.722778  85.123808  ...  0.446175  1.069270       1\n",
              "1     127.927398  87.670022  87.486723  ...  0.386453  1.060359       1\n",
              "2     126.919674  86.092977  83.179963  ...  0.516678  1.092024       1\n",
              "3     123.902447  87.665186  84.027245  ...  0.349478  1.110636       1\n",
              "4     125.780293  83.292150  88.043730  ...  0.653466  1.063307       1\n",
              "...          ...        ...        ...  ...       ...       ...     ...\n",
              "1557  122.909077  83.119585  88.488837  ...  0.623226  1.167634       0\n",
              "1558  127.292700  87.788509  85.848941  ...  0.779002  1.149087       0\n",
              "1559  124.685823  86.890732  82.765324  ...  0.572941  1.122830       0\n",
              "1560  113.450000  66.160000  70.920000  ...  0.812340  1.134560       1\n",
              "1561  125.972514  82.687400  89.117099  ...  0.600624  1.387486       0\n",
              "\n",
              "[1562 rows x 20 columns]"
            ]
          },
          "metadata": {
            "tags": []
          },
          "execution_count": 57
        }
      ]
    },
    {
      "cell_type": "code",
      "metadata": {
        "id": "tXFPZi_QIVf8"
      },
      "source": [
        "X = df.drop(['Result'],axis=1)\n",
        "y = df['Result']"
      ],
      "execution_count": null,
      "outputs": []
    },
    {
      "cell_type": "code",
      "metadata": {
        "id": "-q0zwwnMIiI3"
      },
      "source": [
        "X_train,X_test,Y_train,Y_test = train_test_split(X,y,test_size=0.2,random_state=1)"
      ],
      "execution_count": null,
      "outputs": []
    },
    {
      "cell_type": "markdown",
      "metadata": {
        "id": "44Ie5JQLKnVh"
      },
      "source": [
        "# Logistic Regression"
      ]
    },
    {
      "cell_type": "code",
      "metadata": {
        "id": "OM3FTc2DIyYM"
      },
      "source": [
        "lr = LogisticRegression()"
      ],
      "execution_count": null,
      "outputs": []
    },
    {
      "cell_type": "code",
      "metadata": {
        "id": "5XfaOhPXI628",
        "outputId": "adfddf23-feb7-4e23-98f3-a6be92fd47b1",
        "colab": {
          "base_uri": "https://localhost:8080/",
          "height": 235
        }
      },
      "source": [
        "lr.fit(X_train,Y_train)"
      ],
      "execution_count": null,
      "outputs": [
        {
          "output_type": "stream",
          "text": [
            "/usr/local/lib/python3.6/dist-packages/sklearn/linear_model/_logistic.py:940: ConvergenceWarning: lbfgs failed to converge (status=1):\n",
            "STOP: TOTAL NO. of ITERATIONS REACHED LIMIT.\n",
            "\n",
            "Increase the number of iterations (max_iter) or scale the data as shown in:\n",
            "    https://scikit-learn.org/stable/modules/preprocessing.html\n",
            "Please also refer to the documentation for alternative solver options:\n",
            "    https://scikit-learn.org/stable/modules/linear_model.html#logistic-regression\n",
            "  extra_warning_msg=_LOGISTIC_SOLVER_CONVERGENCE_MSG)\n"
          ],
          "name": "stderr"
        },
        {
          "output_type": "execute_result",
          "data": {
            "text/plain": [
              "LogisticRegression(C=1.0, class_weight=None, dual=False, fit_intercept=True,\n",
              "                   intercept_scaling=1, l1_ratio=None, max_iter=100,\n",
              "                   multi_class='auto', n_jobs=None, penalty='l2',\n",
              "                   random_state=None, solver='lbfgs', tol=0.0001, verbose=0,\n",
              "                   warm_start=False)"
            ]
          },
          "metadata": {
            "tags": []
          },
          "execution_count": 61
        }
      ]
    },
    {
      "cell_type": "code",
      "metadata": {
        "id": "p0cz9b0WI94r",
        "outputId": "e44aba21-8f66-4a6b-b416-8e9193d2eaf2",
        "colab": {
          "base_uri": "https://localhost:8080/",
          "height": 34
        }
      },
      "source": [
        "lr.score(X_test,Y_test)"
      ],
      "execution_count": null,
      "outputs": [
        {
          "output_type": "execute_result",
          "data": {
            "text/plain": [
              "0.9041533546325878"
            ]
          },
          "metadata": {
            "tags": []
          },
          "execution_count": 62
        }
      ]
    },
    {
      "cell_type": "markdown",
      "metadata": {
        "id": "Xvl22-R-KtdR"
      },
      "source": [
        "# Decision Tree Classifier"
      ]
    },
    {
      "cell_type": "code",
      "metadata": {
        "id": "aJmCsuSMJttG"
      },
      "source": [
        "dr = DecisionTreeClassifier()"
      ],
      "execution_count": null,
      "outputs": []
    },
    {
      "cell_type": "code",
      "metadata": {
        "id": "DdAaQ_CqKJtI",
        "outputId": "bb44a0d2-1897-4b6c-a6c4-c2d000363fd4",
        "colab": {
          "base_uri": "https://localhost:8080/",
          "height": 118
        }
      },
      "source": [
        "dr.fit(X_train,Y_train)"
      ],
      "execution_count": null,
      "outputs": [
        {
          "output_type": "execute_result",
          "data": {
            "text/plain": [
              "DecisionTreeClassifier(ccp_alpha=0.0, class_weight=None, criterion='gini',\n",
              "                       max_depth=None, max_features=None, max_leaf_nodes=None,\n",
              "                       min_impurity_decrease=0.0, min_impurity_split=None,\n",
              "                       min_samples_leaf=1, min_samples_split=2,\n",
              "                       min_weight_fraction_leaf=0.0, presort='deprecated',\n",
              "                       random_state=None, splitter='best')"
            ]
          },
          "metadata": {
            "tags": []
          },
          "execution_count": 64
        }
      ]
    },
    {
      "cell_type": "code",
      "metadata": {
        "id": "-5XxqZdOKOjy",
        "outputId": "b777b9bd-9091-4fa6-d6ce-a881990fa910",
        "colab": {
          "base_uri": "https://localhost:8080/",
          "height": 34
        }
      },
      "source": [
        "dr.score(X_test,Y_test)"
      ],
      "execution_count": null,
      "outputs": [
        {
          "output_type": "execute_result",
          "data": {
            "text/plain": [
              "0.8881789137380192"
            ]
          },
          "metadata": {
            "tags": []
          },
          "execution_count": 65
        }
      ]
    },
    {
      "cell_type": "markdown",
      "metadata": {
        "id": "5dmE63fvK0v9"
      },
      "source": [
        "# Neural Network"
      ]
    },
    {
      "cell_type": "code",
      "metadata": {
        "id": "ODyofT_eopCK"
      },
      "source": [
        "sc = StandardScaler()"
      ],
      "execution_count": null,
      "outputs": []
    },
    {
      "cell_type": "code",
      "metadata": {
        "id": "zciJML2OougI"
      },
      "source": [
        "X_train = sc.fit_transform(X_train)\n",
        "X_test = sc.fit_transform(X_test)"
      ],
      "execution_count": null,
      "outputs": []
    },
    {
      "cell_type": "code",
      "metadata": {
        "id": "cbHz7MrFK3Cw"
      },
      "source": [
        "model = Sequential()"
      ],
      "execution_count": null,
      "outputs": []
    },
    {
      "cell_type": "code",
      "metadata": {
        "id": "GFtopoggK41G"
      },
      "source": [
        "model.add(Dense(500,input_dim=19,activation=\"relu\"))\n",
        "model.add(Dense(400,activation=\"relu\"))\n",
        "model.add(Dense(300,activation=\"relu\"))\n",
        "model.add(Dense(200,activation=\"relu\"))\n",
        "model.add(Dense(100,activation=\"relu\"))\n",
        "model.add(Dense(50,activation=\"relu\"))\n",
        "model.add(Dense(1,activation=\"sigmoid\"))"
      ],
      "execution_count": null,
      "outputs": []
    },
    {
      "cell_type": "code",
      "metadata": {
        "id": "TTUjxarELcdD"
      },
      "source": [
        "model.compile(optimizer=\"adam\",loss='binary_crossentropy',metrics=['accuracy'])"
      ],
      "execution_count": null,
      "outputs": []
    },
    {
      "cell_type": "code",
      "metadata": {
        "id": "yueiC5zLLmc-",
        "outputId": "311db872-07fa-4933-d39b-52e5c792e92b",
        "colab": {
          "base_uri": "https://localhost:8080/",
          "height": 706
        }
      },
      "source": [
        "history = model.fit(X_train,Y_train,epochs=20,validation_split=0.2)"
      ],
      "execution_count": null,
      "outputs": [
        {
          "output_type": "stream",
          "text": [
            "Train on 999 samples, validate on 250 samples\n",
            "Epoch 1/20\n",
            "999/999 [==============================] - 0s 254us/sample - loss: 0.0210 - acc: 0.9920 - val_loss: 0.7663 - val_acc: 0.9240\n",
            "Epoch 2/20\n",
            "999/999 [==============================] - 0s 259us/sample - loss: 0.0188 - acc: 0.9940 - val_loss: 0.7398 - val_acc: 0.9160\n",
            "Epoch 3/20\n",
            "999/999 [==============================] - 0s 239us/sample - loss: 0.0140 - acc: 0.9970 - val_loss: 0.9162 - val_acc: 0.8840\n",
            "Epoch 4/20\n",
            "999/999 [==============================] - 0s 234us/sample - loss: 0.0201 - acc: 0.9940 - val_loss: 0.7794 - val_acc: 0.9200\n",
            "Epoch 5/20\n",
            "999/999 [==============================] - 0s 241us/sample - loss: 0.0088 - acc: 0.9970 - val_loss: 0.9118 - val_acc: 0.9240\n",
            "Epoch 6/20\n",
            "999/999 [==============================] - 0s 242us/sample - loss: 0.0154 - acc: 0.9960 - val_loss: 0.8666 - val_acc: 0.9240\n",
            "Epoch 7/20\n",
            "999/999 [==============================] - 0s 239us/sample - loss: 0.0033 - acc: 0.9980 - val_loss: 0.8912 - val_acc: 0.9280\n",
            "Epoch 8/20\n",
            "999/999 [==============================] - 0s 236us/sample - loss: 6.9024e-04 - acc: 1.0000 - val_loss: 1.0393 - val_acc: 0.9240\n",
            "Epoch 9/20\n",
            "999/999 [==============================] - 0s 231us/sample - loss: 2.2508e-04 - acc: 1.0000 - val_loss: 1.0780 - val_acc: 0.9240\n",
            "Epoch 10/20\n",
            "999/999 [==============================] - 0s 234us/sample - loss: 1.4113e-04 - acc: 1.0000 - val_loss: 1.1094 - val_acc: 0.9280\n",
            "Epoch 11/20\n",
            "999/999 [==============================] - 0s 248us/sample - loss: 9.9831e-05 - acc: 1.0000 - val_loss: 1.1380 - val_acc: 0.9280\n",
            "Epoch 12/20\n",
            "999/999 [==============================] - 0s 243us/sample - loss: 7.4970e-05 - acc: 1.0000 - val_loss: 1.1655 - val_acc: 0.9280\n",
            "Epoch 13/20\n",
            "999/999 [==============================] - 0s 237us/sample - loss: 5.6534e-05 - acc: 1.0000 - val_loss: 1.1893 - val_acc: 0.9280\n",
            "Epoch 14/20\n",
            "999/999 [==============================] - 0s 236us/sample - loss: 4.3893e-05 - acc: 1.0000 - val_loss: 1.2105 - val_acc: 0.9280\n",
            "Epoch 15/20\n",
            "999/999 [==============================] - 0s 231us/sample - loss: 3.4863e-05 - acc: 1.0000 - val_loss: 1.2308 - val_acc: 0.9280\n",
            "Epoch 16/20\n",
            "999/999 [==============================] - 0s 247us/sample - loss: 2.7630e-05 - acc: 1.0000 - val_loss: 1.2496 - val_acc: 0.9280\n",
            "Epoch 17/20\n",
            "999/999 [==============================] - 0s 225us/sample - loss: 2.2161e-05 - acc: 1.0000 - val_loss: 1.2718 - val_acc: 0.9280\n",
            "Epoch 18/20\n",
            "999/999 [==============================] - 0s 237us/sample - loss: 1.7768e-05 - acc: 1.0000 - val_loss: 1.2913 - val_acc: 0.9280\n",
            "Epoch 19/20\n",
            "999/999 [==============================] - 0s 237us/sample - loss: 1.4577e-05 - acc: 1.0000 - val_loss: 1.3099 - val_acc: 0.9280\n",
            "Epoch 20/20\n",
            "999/999 [==============================] - 0s 254us/sample - loss: 1.2058e-05 - acc: 1.0000 - val_loss: 1.3275 - val_acc: 0.9280\n"
          ],
          "name": "stdout"
        }
      ]
    },
    {
      "cell_type": "code",
      "metadata": {
        "id": "9-R5Hc-TLyH9",
        "outputId": "1c1c81d0-3bf1-4836-feb9-6c32f8b9cac5",
        "colab": {
          "base_uri": "https://localhost:8080/",
          "height": 34
        }
      },
      "source": [
        "score = model.evaluate(X_test,Y_test)"
      ],
      "execution_count": null,
      "outputs": [
        {
          "output_type": "stream",
          "text": [
            "313/313 [==============================] - 0s 112us/sample - loss: 0.7978 - acc: 0.9169\n"
          ],
          "name": "stdout"
        }
      ]
    },
    {
      "cell_type": "code",
      "metadata": {
        "id": "_Ofa29YYL-VE",
        "outputId": "537e8eea-c993-4731-9976-ec1bc5b014b1",
        "colab": {
          "base_uri": "https://localhost:8080/",
          "height": 134
        }
      },
      "source": [
        "x = sc.fit_transform(X)\n",
        "pred = model.predict(x)\n",
        "pred.round()"
      ],
      "execution_count": null,
      "outputs": [
        {
          "output_type": "execute_result",
          "data": {
            "text/plain": [
              "array([[1.],\n",
              "       [1.],\n",
              "       [1.],\n",
              "       ...,\n",
              "       [0.],\n",
              "       [0.],\n",
              "       [0.]], dtype=float32)"
            ]
          },
          "metadata": {
            "tags": []
          },
          "execution_count": 91
        }
      ]
    },
    {
      "cell_type": "code",
      "metadata": {
        "id": "psyWZs2mMDJV"
      },
      "source": [
        "# plt.scatter(range(313),y)\n",
        "# plt.scatter(range(313),pred.round())"
      ],
      "execution_count": null,
      "outputs": []
    },
    {
      "cell_type": "code",
      "metadata": {
        "id": "aSgH_HOeNPpw",
        "colab": {
          "base_uri": "https://localhost:8080/",
          "height": 50
        },
        "outputId": "bfff42fa-46c5-42c1-e71e-eacbe78e6c2d"
      },
      "source": [
        "confusion_matrix(y,pred.round())"
      ],
      "execution_count": null,
      "outputs": [
        {
          "output_type": "execute_result",
          "data": {
            "text/plain": [
              "array([[734,  17],\n",
              "       [ 26, 785]])"
            ]
          },
          "metadata": {
            "tags": []
          },
          "execution_count": 98
        }
      ]
    },
    {
      "cell_type": "code",
      "metadata": {
        "id": "KvtJwJYw2XBW",
        "colab": {
          "base_uri": "https://localhost:8080/",
          "height": 50
        },
        "outputId": "bd196cf8-cddf-451b-9820-b6fe10db8a49"
      },
      "source": [
        "confusion_matrix(y,lr.predict(X))"
      ],
      "execution_count": null,
      "outputs": [
        {
          "output_type": "execute_result",
          "data": {
            "text/plain": [
              "array([[683,  68],\n",
              "       [ 83, 728]])"
            ]
          },
          "metadata": {
            "tags": []
          },
          "execution_count": 96
        }
      ]
    },
    {
      "cell_type": "code",
      "metadata": {
        "id": "JnD2FPF-DJa4",
        "colab": {
          "base_uri": "https://localhost:8080/",
          "height": 50
        },
        "outputId": "529d0650-a2ce-4964-ebda-03106385605e"
      },
      "source": [
        "confusion_matrix(y,dr.predict(X))"
      ],
      "execution_count": null,
      "outputs": [
        {
          "output_type": "execute_result",
          "data": {
            "text/plain": [
              "array([[732,  19],\n",
              "       [ 16, 795]])"
            ]
          },
          "metadata": {
            "tags": []
          },
          "execution_count": 97
        }
      ]
    },
    {
      "cell_type": "code",
      "metadata": {
        "id": "Jf4VuyAUDXWy"
      },
      "source": [],
      "execution_count": null,
      "outputs": []
    }
  ]
}